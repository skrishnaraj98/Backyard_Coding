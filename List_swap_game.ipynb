{
 "cells": [
  {
   "cell_type": "code",
   "execution_count": 2,
   "metadata": {},
   "outputs": [],
   "source": [
    "# Initial game list\n",
    "\n",
    "game_list = [0,1,2]"
   ]
  },
  {
   "cell_type": "code",
   "execution_count": 3,
   "metadata": {},
   "outputs": [],
   "source": [
    "# 1st function - For displaying the initial list prior to the start: \n",
    "\n",
    "def display(game_list):\n",
    "    print(\"Here's the initial list: \", game_list)"
   ]
  },
  {
   "cell_type": "code",
   "execution_count": 4,
   "metadata": {},
   "outputs": [
    {
     "name": "stdout",
     "output_type": "stream",
     "text": [
      "Here's the initial list:  [0, 1, 2]\n"
     ]
    }
   ],
   "source": [
    "display(game_list)"
   ]
  },
  {
   "cell_type": "code",
   "execution_count": 29,
   "metadata": {},
   "outputs": [],
   "source": [
    "# 2nd function which asks users for their choice of position (index):\n",
    "\n",
    "def player_choice():\n",
    "\n",
    "    choice = \"Wrong\"\n",
    "\n",
    "    while choice not in [\"0\",\"1\",\"2\"]:\n",
    "        choice = input(\"Which position you wish to choose?: \")\n",
    "\n",
    "        if choice not in [\"0\",\"1\",\"2\"]:\n",
    "            print(\"Sorry, invalid choice. Please select from 0,1 or 2\")\n",
    "            choice = \"Wrong\"\n",
    "    print(\"Good choice!\", f\" You have selected index number {choice}.\") \n",
    "    return int(choice)\n"
   ]
  },
  {
   "cell_type": "code",
   "execution_count": 6,
   "metadata": {},
   "outputs": [
    {
     "name": "stdout",
     "output_type": "stream",
     "text": [
      "Good choice!\n"
     ]
    },
    {
     "data": {
      "text/plain": [
       "1"
      ]
     },
     "execution_count": 6,
     "metadata": {},
     "output_type": "execute_result"
    }
   ],
   "source": [
    "position = player_choice()\n",
    "position"
   ]
  },
  {
   "cell_type": "code",
   "execution_count": 26,
   "metadata": {},
   "outputs": [],
   "source": [
    "# 3rd function is replacement function which fills in a user-defined data at the user-defined position. \n",
    "\n",
    "def replacement(game_list,position):\n",
    "\n",
    "    replacement_value = input(\"Tell us what you wish to replace the position with? \")\n",
    "\n",
    "    game_list[position] = replacement_value\n",
    "\n",
    "    print(\"Updated game_list: \",game_list)\n",
    "\n",
    "    return game_list\n"
   ]
  },
  {
   "cell_type": "code",
   "execution_count": 8,
   "metadata": {},
   "outputs": [
    {
     "data": {
      "text/plain": [
       "['lal', 1, 2]"
      ]
     },
     "execution_count": 8,
     "metadata": {},
     "output_type": "execute_result"
    }
   ],
   "source": [
    "new_game_list = replacement(game_list,0)\n",
    "new_game_list"
   ]
  },
  {
   "cell_type": "code",
   "execution_count": 27,
   "metadata": {},
   "outputs": [],
   "source": [
    "# 4th and final function is to ask the user for continuing or ending the game. \n",
    "\n",
    "def gameon_choice():\n",
    "    \n",
    "    choice = \"Wrong\"\n",
    "\n",
    "    while choice not in [\"Y\",\"N\"]:\n",
    "        choice = input(\"Tell us your response as Y or N: \")\n",
    "\n",
    "        if choice not in [\"Y\",\"N\"]:\n",
    "            print(\"Sorry, invalid choice.\",choice, \" Try again!\")\n",
    "    \n",
    "    if choice == \"Y\":\n",
    "        print(\"You have chosen to continue playing.\")\n",
    "        return True\n",
    "    else: \n",
    "        print(\"You have ended the game.\")\n",
    "        return False"
   ]
  },
  {
   "cell_type": "code",
   "execution_count": 23,
   "metadata": {},
   "outputs": [
    {
     "name": "stdout",
     "output_type": "stream",
     "text": [
      "Sorry, invalid choice.   Try again!\n"
     ]
    },
    {
     "data": {
      "text/plain": [
       "True"
      ]
     },
     "execution_count": 23,
     "metadata": {},
     "output_type": "execute_result"
    }
   ],
   "source": [
    "game = gameon_choice()\n",
    "game"
   ]
  },
  {
   "cell_type": "code",
   "execution_count": 31,
   "metadata": {},
   "outputs": [
    {
     "name": "stdout",
     "output_type": "stream",
     "text": [
      "Here's the initial list:  [0, 1, 2]\n",
      "Good choice!  You have selected index number 0.\n",
      "Updated game_list:  ['Hooray', 1, 2]\n",
      "Here's the initial list:  ['Hooray', 1, 2]\n",
      "You have chosen to continue playing.\n",
      "\n",
      "\n",
      "Here's the initial list:  ['Hooray', 1, 2]\n",
      "Good choice!  You have selected index number 2.\n",
      "Updated game_list:  ['Hooray', 1, 'LOL']\n",
      "Here's the initial list:  ['Hooray', 1, 'LOL']\n",
      "You have ended the game.\n",
      "\n",
      "\n"
     ]
    }
   ],
   "source": [
    "game_list = [0,1,2]\n",
    "\n",
    "game = True\n",
    "\n",
    "while game:\n",
    "\n",
    "    display(game_list)\n",
    "\n",
    "    position = player_choice()\n",
    "    \n",
    "    new_game_list = replacement(game_list,position)\n",
    "\n",
    "    display(new_game_list)\n",
    "\n",
    "    game = gameon_choice()\n",
    "\n",
    "    print(\"\\n\")"
   ]
  },
  {
   "cell_type": "code",
   "execution_count": null,
   "metadata": {},
   "outputs": [],
   "source": [
    "\n",
    "\n"
   ]
  }
 ],
 "metadata": {
  "kernelspec": {
   "display_name": "base",
   "language": "python",
   "name": "python3"
  },
  "language_info": {
   "codemirror_mode": {
    "name": "ipython",
    "version": 3
   },
   "file_extension": ".py",
   "mimetype": "text/x-python",
   "name": "python",
   "nbconvert_exporter": "python",
   "pygments_lexer": "ipython3",
   "version": "3.12.4"
  }
 },
 "nbformat": 4,
 "nbformat_minor": 2
}
