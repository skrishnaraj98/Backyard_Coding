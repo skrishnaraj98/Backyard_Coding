{
 "cells": [
  {
   "cell_type": "code",
   "execution_count": 2,
   "metadata": {},
   "outputs": [],
   "source": [
    "from IPython.display import clear_output"
   ]
  },
  {
   "cell_type": "code",
   "execution_count": 3,
   "metadata": {},
   "outputs": [],
   "source": [
    "def display_board(board):\n",
    "    clear_output()\n",
    "\n",
    "    print(board[7] + \" | \" + board[8] + \" | \" + board[9])\n",
    "    print(\"-----------------\")\n",
    "    print(board[4] + \" | \" + board[5] + \" | \" + board[6])\n",
    "    print(\"-----------------\")\n",
    "    print(board[1] + \" | \" + board[2] + \" | \" + board[3])\n"
   ]
  },
  {
   "cell_type": "code",
   "execution_count": 4,
   "metadata": {},
   "outputs": [
    {
     "name": "stdout",
     "output_type": "stream",
     "text": [
      "  |   |  \n",
      "-----------------\n",
      "  |   |  \n",
      "-----------------\n",
      "  |   |  \n"
     ]
    }
   ],
   "source": [
    "board = [\"#\", \" \", \" \", \" \", \" \", \" \", \" \",\" \", \" \", \" \"]\n",
    "\n",
    "display_board(board)"
   ]
  },
  {
   "cell_type": "code",
   "execution_count": 5,
   "metadata": {},
   "outputs": [],
   "source": [
    "# Ask player 1 to choose from two markers X or O:\n",
    "\n",
    "def player_input():\n",
    "    marker = \" \"\n",
    "\n",
    "    while not (marker == \"X\" or marker == \"O\"):\n",
    "        marker = input(\"Player 1. Select a marker X or O: \")\n",
    "\n",
    "    if marker == \"X\":\n",
    "        return (\"X\",\"O\")\n",
    "    else:\n",
    "        return (\"O\", \"X\")"
   ]
  },
  {
   "cell_type": "code",
   "execution_count": 6,
   "metadata": {},
   "outputs": [
    {
     "data": {
      "text/plain": [
       "('X', 'O')"
      ]
     },
     "execution_count": 6,
     "metadata": {},
     "output_type": "execute_result"
    }
   ],
   "source": [
    "player_input()"
   ]
  },
  {
   "cell_type": "code",
   "execution_count": 7,
   "metadata": {},
   "outputs": [],
   "source": [
    "# Now choose a player who will go first. \n",
    "\n",
    "import random\n",
    "\n",
    "def choose_first():\n",
    "    if random.randint(0,1) == 0:\n",
    "        return \"Player 2\"\n",
    "    else:\n",
    "        return \"Player 1\"   "
   ]
  },
  {
   "cell_type": "code",
   "execution_count": 8,
   "metadata": {},
   "outputs": [
    {
     "data": {
      "text/plain": [
       "'Player 1'"
      ]
     },
     "execution_count": 8,
     "metadata": {},
     "output_type": "execute_result"
    }
   ],
   "source": [
    "choose_first()"
   ]
  },
  {
   "cell_type": "code",
   "execution_count": 9,
   "metadata": {},
   "outputs": [],
   "source": [
    "## Now define a function which substitutes the marker to the selected position on the board. \n",
    "\n",
    "def place_marker(board, marker, position):\n",
    "    board[position] = marker"
   ]
  },
  {
   "cell_type": "code",
   "execution_count": 10,
   "metadata": {},
   "outputs": [],
   "source": [
    "## Now check whether a position is occupied or free. \n",
    "\n",
    "def space_check(board, position):\n",
    "    return board[position] == \" \""
   ]
  },
  {
   "cell_type": "code",
   "execution_count": 11,
   "metadata": {},
   "outputs": [],
   "source": [
    "## Now to continue the game, define a function to keep asking the players for their response. \n",
    "\n",
    "def player_choice(board):\n",
    "\n",
    "    position = 0 \n",
    "\n",
    "    while position not in [1,2,3,4,5,6,7,8,9] or not space_check(board,position):\n",
    "        position = int(input(\"Choose your next position: (1-9):\"))\n",
    "\n",
    "    return position"
   ]
  },
  {
   "cell_type": "code",
   "execution_count": 29,
   "metadata": {},
   "outputs": [],
   "source": [
    "## Now define a function to check whether a player has won or not?\n",
    "\n",
    "def win_check(board, mark):\n",
    "\n",
    "    return (\n",
    "        (board[7] == mark and board[8] == mark and board[9] == mark) or\n",
    "        (board[4] == mark and board[5] == mark and board[6] == mark) or\n",
    "        (board[1] == mark and board[2] == mark and board[3] == mark) or\n",
    "        (board[7] == mark and board[4] == mark and board[1] == mark) or\n",
    "        (board[8] == mark and board[5] == mark and board[2] == mark) or\n",
    "        (board[9] == mark and board[6] == mark and board[3] == mark) or\n",
    "        (board[7] == mark and board[5] == mark and board[3] == mark) or\n",
    "        (board[9] == mark and board[5] == mark and board[1] == mark)\n",
    "        )"
   ]
  },
  {
   "cell_type": "code",
   "execution_count": 30,
   "metadata": {},
   "outputs": [],
   "source": [
    "# Now define a function to check the full board for possible game continuation or Draw. \n",
    "\n",
    "def full_board_check(board):\n",
    "    \n",
    "    for i in range(1,10):\n",
    "        if space_check(board,i):\n",
    "            return False\n",
    "    return True"
   ]
  },
  {
   "cell_type": "code",
   "execution_count": 31,
   "metadata": {},
   "outputs": [],
   "source": [
    "## Now final function to ask players for a rematch at last. \n",
    "\n",
    "def replay():\n",
    "\n",
    "    return input(\"Do you wish for a rematch? Enter Yes or No\").lower().startswith(\"y\")"
   ]
  },
  {
   "cell_type": "code",
   "execution_count": 32,
   "metadata": {},
   "outputs": [],
   "source": [
    "## Now combining everything into one single block of code to run the game. "
   ]
  },
  {
   "cell_type": "code",
   "execution_count": 37,
   "metadata": {},
   "outputs": [
    {
     "name": "stdout",
     "output_type": "stream",
     "text": [
      "X |   |  \n",
      "-----------------\n",
      "O | X | O\n",
      "-----------------\n",
      "X | O | X\n",
      "Congratulations Player 1. You won the game!!!\n",
      "The End.\n"
     ]
    }
   ],
   "source": [
    "print(\"Welcome to Tic Tac Toe Game!\")\n",
    "\n",
    "while True: \n",
    "\n",
    "    Game_board = [\" \"]*10\n",
    "\n",
    "    player1_marker, player2_marker = player_input()\n",
    "\n",
    "    turn = choose_first()\n",
    "\n",
    "    print(turn + \" will go first!\")\n",
    "\n",
    "    play_game = input(\"Are you ready to play? Yes or No\")\n",
    "\n",
    "    if play_game.lower()[0] == \"y\":\n",
    "        game_on = True\n",
    "    else:\n",
    "        game_on = False\n",
    "\n",
    "    while game_on: \n",
    "\n",
    "        if turn == \"Player 1\":\n",
    "        ## Player 1's chance:\n",
    "\n",
    "            print(\"Player 1's turn.\")\n",
    "            display_board(Game_board)\n",
    "            position = player_choice(Game_board)\n",
    "\n",
    "            place_marker(Game_board,player1_marker, position)\n",
    "\n",
    "            if win_check(Game_board, player1_marker):\n",
    "                display_board(Game_board)\n",
    "                print(\"Congratulations Player 1. You won the game!!!\")\n",
    "                game_on = False\n",
    "\n",
    "            else: \n",
    "                if full_board_check(Game_board):\n",
    "                    display(Game_board)\n",
    "                    print(\"The game is a draw!\")\n",
    "                    break\n",
    "                else:\n",
    "                    turn = \"Player 2\"\n",
    "        else:\n",
    "            ## Now Player 2's chance: \n",
    "\n",
    "            print(\"Player 2's turn.\")\n",
    "            display_board(Game_board)\n",
    "            position = player_choice(Game_board)\n",
    "\n",
    "            place_marker(Game_board,player2_marker, position)\n",
    "\n",
    "            if win_check(Game_board, player2_marker):\n",
    "                display_board(Game_board)\n",
    "                print(\"Congratulations Player 2. You won the game!!!\")\n",
    "                game_on = False\n",
    "\n",
    "            else:\n",
    "                if full_board_check(Game_board):\n",
    "                    display(Game_board)\n",
    "                    print(\"The game is a draw!\")\n",
    "                    break\n",
    "                else:\n",
    "                    turn = \"Player 1\"\n",
    "    \n",
    "    if not replay():\n",
    "        print(\"The End.\")\n",
    "        break\n"
   ]
  },
  {
   "cell_type": "code",
   "execution_count": null,
   "metadata": {},
   "outputs": [],
   "source": []
  },
  {
   "cell_type": "code",
   "execution_count": null,
   "metadata": {},
   "outputs": [],
   "source": []
  }
 ],
 "metadata": {
  "kernelspec": {
   "display_name": "base",
   "language": "python",
   "name": "python3"
  },
  "language_info": {
   "codemirror_mode": {
    "name": "ipython",
    "version": 3
   },
   "file_extension": ".py",
   "mimetype": "text/x-python",
   "name": "python",
   "nbconvert_exporter": "python",
   "pygments_lexer": "ipython3",
   "version": "3.12.4"
  }
 },
 "nbformat": 4,
 "nbformat_minor": 2
}
